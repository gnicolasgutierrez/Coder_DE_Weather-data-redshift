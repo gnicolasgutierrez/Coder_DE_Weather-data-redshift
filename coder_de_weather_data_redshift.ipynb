{
  "nbformat": 4,
  "nbformat_minor": 0,
  "metadata": {
    "colab": {
      "provenance": [],
      "toc_visible": true,
      "authorship_tag": "ABX9TyOQ9NGrk4qCIQjR0i33rk97",
      "include_colab_link": true
    },
    "kernelspec": {
      "name": "python3",
      "display_name": "Python 3"
    },
    "language_info": {
      "name": "python"
    }
  },
  "cells": [
    {
      "cell_type": "markdown",
      "metadata": {
        "id": "view-in-github",
        "colab_type": "text"
      },
      "source": [
        "<a href=\"https://colab.research.google.com/github/gnicolasgutierrez/Coder_DE_Weather-data-redshift/blob/main/coder_de_weather_data_redshift.ipynb\" target=\"_parent\"><img src=\"https://colab.research.google.com/assets/colab-badge.svg\" alt=\"Open In Colab\"/></a>"
      ]
    },
    {
      "cell_type": "markdown",
      "source": [
        "#**Proyecto de Extracción y Análisis de Datos Climáticos**\n",
        "\n",
        "**Objetivo del Proyecto**\n",
        "\n",
        "El objetivo de este proyecto es desarrollar un proceso automatizado para la extracción, transformación y carga (ETL) de datos climáticos utilizando la API de OpenWeatherMap. Los datos se obtendrán diariamente y se almacenarán en una base de datos en Amazon Redshift, permitiendo un análisis detallado de las condiciones climáticas de diversas ciudades.\n",
        "\n",
        "**Descripción del Proyecto**\n",
        "\n",
        "En este proyecto, se busca:\n",
        "\n",
        "Automatizar la extracción de datos climáticos: Utilizando la API de OpenWeatherMap, se obtendrán datos climáticos de múltiples ciudades. Estos datos incluirán variables como la temperatura, humedad, presión atmosférica, y descripción del clima.\n",
        "\n",
        "**Transformar los datos:**\n",
        "\n",
        "Los datos extraídos se procesarán para asegurar que estén en el formato adecuado antes de su almacenamiento. Esto incluye la normalización de unidades de medida y el manejo de datos faltantes o erróneos.\n",
        "\n",
        "**Cargar los datos en Redshift:**\n",
        "\n",
        " Los datos procesados se cargarán en una tabla de Amazon Redshift. Esta tabla se ha diseñado para incluir una columna temporal que permita controlar y rastrear las ingestas de datos.\n",
        "\n",
        "**Flujo de Trabajo**\n",
        "\n",
        "**Extracción:**\n",
        "Se realiza una solicitud a la API de OpenWeatherMap para obtener los datos climáticos de una ciudad específica.\n",
        "\n",
        "**Transformación**: Los datos recibidos se procesan para asegurarse de que estén en el formato correcto y se añade una marca de tiempo para el control de ingestas.\n",
        "\n",
        "**Carga:** Los datos procesados se insertan en una tabla de Amazon Redshift.\n",
        "\n",
        "**Consulta y análisis:** Los datos almacenados en Redshift se consultan y analizan para extraer información relevante y generar reportes.\n",
        "\n",
        "**Tecnologías Utilizadas**\n",
        "\n",
        "**Python:** Lenguaje de programación utilizado para escribir los scripts de ETL.\n",
        "\n",
        "**psycopg2:** Biblioteca utilizada para conectarse a Amazon Redshift desde Python.\n",
        "\n",
        "**OpenWeatherMap API:** Fuente de datos climáticos.\n",
        "\n",
        "**Amazon Redshift:** Base de datos utilizada para almacenar y gestionar los datos climáticos.\n"
      ],
      "metadata": {
        "id": "MgYfxaiDY-H0"
      }
    },
    {
      "cell_type": "markdown",
      "source": [
        "#**Consultar datos de la API y preparar los datos**"
      ],
      "metadata": {
        "id": "Smy6z-CbUO7a"
      }
    },
    {
      "cell_type": "code",
      "execution_count": null,
      "metadata": {
        "colab": {
          "base_uri": "https://localhost:8080/"
        },
        "id": "Xak0phRS8VjA",
        "outputId": "aa7e0a32-2374-45c4-d0f3-d030d859ce41"
      },
      "outputs": [
        {
          "output_type": "stream",
          "name": "stdout",
          "text": [
            "{'city': 'Tunuyán', 'temperature': 6.640000000000043, 'humidity': 49, 'pressure': 1028, 'weather': 'clear sky', 'timestamp': datetime.datetime(2024, 7, 28, 13, 20, 39, 240275)}\n",
            "{'city': 'Mendoza', 'temperature': 9.740000000000009, 'humidity': 32, 'pressure': 1026, 'weather': 'scattered clouds', 'timestamp': datetime.datetime(2024, 7, 28, 13, 20, 39, 309116)}\n",
            "{'city': 'Buenos Aires', 'temperature': 10.580000000000041, 'humidity': 52, 'pressure': 1027, 'weather': 'clear sky', 'timestamp': datetime.datetime(2024, 7, 28, 13, 20, 39, 346237)}\n",
            "{'city': 'Córdoba', 'temperature': 10.510000000000048, 'humidity': 61, 'pressure': 1026, 'weather': 'clear sky', 'timestamp': datetime.datetime(2024, 7, 28, 13, 20, 39, 387505)}\n",
            "{'city': 'Rosario', 'temperature': 10.620000000000005, 'humidity': 22, 'pressure': 1025, 'weather': 'clear sky', 'timestamp': datetime.datetime(2024, 7, 28, 13, 20, 39, 428155)}\n",
            "{'city': 'La Plata', 'temperature': 10.450000000000045, 'humidity': 51, 'pressure': 1027, 'weather': 'few clouds', 'timestamp': datetime.datetime(2024, 7, 28, 13, 20, 39, 471362)}\n",
            "{'city': 'Mar del Plata', 'temperature': 8.580000000000041, 'humidity': 52, 'pressure': 1027, 'weather': 'clear sky', 'timestamp': datetime.datetime(2024, 7, 28, 13, 20, 39, 511989)}\n",
            "{'city': 'San Miguel de Tucumán', 'temperature': 15.939999999999998, 'humidity': 52, 'pressure': 1021, 'weather': 'overcast clouds', 'timestamp': datetime.datetime(2024, 7, 28, 13, 20, 39, 557928)}\n",
            "{'city': 'Salta', 'temperature': 15.879999999999995, 'humidity': 71, 'pressure': 1020, 'weather': 'broken clouds', 'timestamp': datetime.datetime(2024, 7, 28, 13, 20, 39, 602656)}\n",
            "{'city': 'Santa Fe', 'temperature': 15.03000000000003, 'humidity': 33, 'pressure': 1024, 'weather': 'overcast clouds', 'timestamp': datetime.datetime(2024, 7, 28, 13, 20, 39, 648665)}\n"
          ]
        }
      ],
      "source": [
        "import requests\n",
        "import json\n",
        "from datetime import datetime\n",
        "\n",
        "# Configuración de la API\n",
        "API_KEY = 'f69660d66b33c4f56ca1513daed236da'  # Reemplaza con tu API Key\n",
        "CITIES = ['Tunuyán', 'Mendoza', 'Buenos Aires', 'Córdoba', 'Rosario', 'La Plata', 'Mar del Plata', 'San Miguel de Tucumán', 'Salta', 'Santa Fe']\n",
        "API_URL_TEMPLATE = 'http://api.openweathermap.org/data/2.5/weather?q={city}&appid={api_key}'\n",
        "\n",
        "weather_data_list = []\n",
        "\n",
        "for city in CITIES:\n",
        "    api_url = API_URL_TEMPLATE.format(city=city, api_key=API_KEY)\n",
        "    response = requests.get(api_url)\n",
        "    weather_data = response.json()\n",
        "\n",
        "    # Verificación de datos\n",
        "    if 'main' in weather_data:\n",
        "        # Transformación de datos\n",
        "        data = {\n",
        "            'city': city,\n",
        "            'temperature': weather_data['main']['temp']-273.15,\n",
        "            'humidity': weather_data['main']['humidity'],\n",
        "            'pressure': weather_data['main']['pressure'],\n",
        "            'weather': weather_data['weather'][0]['description'],\n",
        "            'timestamp': datetime.now()\n",
        "        }\n",
        "        weather_data_list.append(data)\n",
        "    else:\n",
        "        print(f\"Error en la respuesta de la API para {city}: {weather_data}\")\n",
        "\n",
        "# Imprimir los datos recopilados\n",
        "for data in weather_data_list:\n",
        "    print(data)\n",
        "\n"
      ]
    },
    {
      "cell_type": "markdown",
      "source": [
        "#**Conectar a Redshift, crear la tabla y definir funciones de inserción**"
      ],
      "metadata": {
        "id": "IPBYKXbrTxnq"
      }
    },
    {
      "cell_type": "code",
      "source": [
        "import psycopg2\n",
        "\n",
        "# Configuración de Redshift\n",
        "REDSHIFT_CONN = {\n",
        "    'dbname': 'data-engineer-database',\n",
        "    'user': 'ngutierrez_coderhouse',\n",
        "    'password': 'L4et1wP7eZ',\n",
        "    'host': 'data-engineer-cluster.cyhh5bfevlmn.us-east-1.redshift.amazonaws.com',\n",
        "    'port': '5439'\n",
        "}\n",
        "\n",
        "def connect_to_redshift():\n",
        "    try:\n",
        "        conn = psycopg2.connect(\n",
        "            dbname=REDSHIFT_CONN['dbname'],\n",
        "            user=REDSHIFT_CONN['user'],\n",
        "            password=REDSHIFT_CONN['password'],\n",
        "            host=REDSHIFT_CONN['host'],\n",
        "            port=REDSHIFT_CONN['port']\n",
        "        )\n",
        "        print(\"Conexión exitosa a Redshift\")\n",
        "        return conn\n",
        "    except psycopg2.OperationalError as e:\n",
        "        print(f\"Error al conectar a Redshift: {e}\")\n",
        "\n",
        "def create_table(conn):\n",
        "    cursor = conn.cursor()\n",
        "    create_table_query = \"\"\"\n",
        "        CREATE TABLE IF NOT EXISTS weather_data (\n",
        "            city VARCHAR(50),\n",
        "            temperature FLOAT,\n",
        "            humidity INT,\n",
        "            pressure INT,\n",
        "            weather VARCHAR(100),\n",
        "            timestamp TIMESTAMP,\n",
        "            ingestion_time TIMESTAMP DEFAULT GETDATE()\n",
        "        )\n",
        "    \"\"\"\n",
        "    cursor.execute(create_table_query)\n",
        "    conn.commit()\n",
        "    cursor.close()\n",
        "\n",
        "def insert_data(conn, data):\n",
        "    cursor = conn.cursor()\n",
        "    insert_query = \"\"\"\n",
        "        INSERT INTO weather_data (city, temperature, humidity, pressure, weather, timestamp)\n",
        "        VALUES (%s, %s, %s, %s, %s, %s)\n",
        "    \"\"\"\n",
        "    cursor.execute(insert_query, (data['city'], data['temperature'], data['humidity'], data['pressure'], data['weather'], data['timestamp']))\n",
        "    conn.commit()\n",
        "    cursor.close()\n",
        "\n"
      ],
      "metadata": {
        "id": "rTC0F1e2StEV"
      },
      "execution_count": null,
      "outputs": []
    },
    {
      "cell_type": "markdown",
      "source": [
        "#**Insertar datos en Redshift**"
      ],
      "metadata": {
        "id": "3iwbvVbQTqPp"
      }
    },
    {
      "cell_type": "code",
      "source": [
        "# Uso de las funciones definidas\n",
        "conn = connect_to_redshift()\n",
        "if conn:\n",
        "    create_table(conn)\n",
        "    # Inserta los datos de todas las ciudades\n",
        "    for data in weather_data_list:\n",
        "        insert_data(conn, data)\n",
        "    conn.close()\n",
        "\n",
        "print(\"Datos insertados correctamente en Redshift.\")\n",
        "\n",
        "\n",
        "\n"
      ],
      "metadata": {
        "colab": {
          "base_uri": "https://localhost:8080/"
        },
        "id": "oTJiTVJcPY2x",
        "outputId": "b50c8804-1088-4e02-8221-752226e0284f"
      },
      "execution_count": null,
      "outputs": [
        {
          "output_type": "stream",
          "name": "stdout",
          "text": [
            "Conexión exitosa a Redshift\n",
            "Datos insertados correctamente en Redshift.\n"
          ]
        }
      ]
    },
    {
      "cell_type": "markdown",
      "source": [
        "#**Consultar los datos desde Redshift**\n",
        "\n",
        "\n",
        "\n"
      ],
      "metadata": {
        "id": "biiXHA-NTXRv"
      }
    },
    {
      "cell_type": "code",
      "source": [
        "def query_data(conn):\n",
        "    cursor = conn.cursor()\n",
        "    query = \"SELECT * FROM weather_data\"\n",
        "    cursor.execute(query)\n",
        "    rows = cursor.fetchall()\n",
        "    for row in rows:\n",
        "        print(row)\n",
        "    cursor.close()\n",
        "\n",
        "# Conexión y consulta\n",
        "conn = connect_to_redshift()\n",
        "if conn:\n",
        "    query_data(conn)\n",
        "    conn.close()\n",
        "\n"
      ],
      "metadata": {
        "colab": {
          "base_uri": "https://localhost:8080/"
        },
        "id": "WBte58gMS3pb",
        "outputId": "29296a93-a10a-4256-aab1-66883ff78dbf"
      },
      "execution_count": null,
      "outputs": [
        {
          "output_type": "stream",
          "name": "stdout",
          "text": [
            "Conexión exitosa a Redshift\n",
            "('Tunuyán', 6.08000000000004, 49, 1028, 'clear sky', datetime.datetime(2024, 7, 28, 12, 57, 52, 303161))\n",
            "('Mendoza', 8.74000000000001, 40, 1026, 'scattered clouds', datetime.datetime(2024, 7, 28, 12, 57, 52, 349236))\n",
            "('Buenos Aires', 9.77000000000004, 58, 1027, 'clear sky', datetime.datetime(2024, 7, 28, 12, 57, 52, 388559))\n",
            "('Córdoba', 9.89000000000004, 65, 1026, 'clear sky', datetime.datetime(2024, 7, 28, 12, 57, 52, 431675))\n",
            "('Rosario', 8.51000000000005, 10, 1025, 'few clouds', datetime.datetime(2024, 7, 28, 12, 57, 52, 473699))\n",
            "('La Plata', 9.34000000000003, 51, 1027, 'few clouds', datetime.datetime(2024, 7, 28, 12, 57, 52, 518991))\n",
            "('Mar del Plata', 8.02000000000004, 53, 1027, 'clear sky', datetime.datetime(2024, 7, 28, 12, 57, 52, 558026))\n",
            "('San Miguel de Tucumán', 15.94, 52, 1021, 'overcast clouds', datetime.datetime(2024, 7, 28, 12, 57, 52, 603476))\n",
            "('Salta', 15.3200000000001, 74, 1020, 'overcast clouds', datetime.datetime(2024, 7, 28, 12, 57, 52, 642716))\n",
            "('Santa Fe', 14.53, 33, 1024, 'overcast clouds', datetime.datetime(2024, 7, 28, 12, 57, 52, 690069))\n",
            "('Tunuyán', 6.64000000000004, 49, 1028, 'clear sky', datetime.datetime(2024, 7, 28, 13, 20, 39, 240275))\n",
            "('Mendoza', 9.74000000000001, 32, 1026, 'scattered clouds', datetime.datetime(2024, 7, 28, 13, 20, 39, 309116))\n",
            "('Buenos Aires', 10.58, 52, 1027, 'clear sky', datetime.datetime(2024, 7, 28, 13, 20, 39, 346237))\n",
            "('Córdoba', 10.51, 61, 1026, 'clear sky', datetime.datetime(2024, 7, 28, 13, 20, 39, 387505))\n",
            "('Rosario', 10.62, 22, 1025, 'clear sky', datetime.datetime(2024, 7, 28, 13, 20, 39, 428155))\n",
            "('La Plata', 10.45, 51, 1027, 'few clouds', datetime.datetime(2024, 7, 28, 13, 20, 39, 471362))\n",
            "('Mar del Plata', 8.58000000000004, 52, 1027, 'clear sky', datetime.datetime(2024, 7, 28, 13, 20, 39, 511989))\n",
            "('San Miguel de Tucumán', 15.94, 52, 1021, 'overcast clouds', datetime.datetime(2024, 7, 28, 13, 20, 39, 557928))\n",
            "('Salta', 15.88, 71, 1020, 'broken clouds', datetime.datetime(2024, 7, 28, 13, 20, 39, 602656))\n",
            "('Santa Fe', 15.03, 33, 1024, 'overcast clouds', datetime.datetime(2024, 7, 28, 13, 20, 39, 648665))\n"
          ]
        }
      ]
    },
    {
      "cell_type": "markdown",
      "source": [
        "#**Restablecer tabla**"
      ],
      "metadata": {
        "id": "sk-lnWxCTQ0P"
      }
    },
    {
      "cell_type": "code",
      "source": [
        "def clear_table(conn):\n",
        "    cursor = conn.cursor()\n",
        "    clear_table_query = \"DELETE FROM weather_data\"\n",
        "    cursor.execute(clear_table_query)\n",
        "    conn.commit()\n",
        "    cursor.close()\n",
        "    print(\"Tabla weather_data limpiada correctamente.\")\n",
        "\n",
        "# Conexión y limpieza de la tabla\n",
        "conn = connect_to_redshift()\n",
        "if conn:\n",
        "    clear_table(conn)\n",
        "    conn.close()\n"
      ],
      "metadata": {
        "colab": {
          "base_uri": "https://localhost:8080/"
        },
        "id": "6yoGQofRTKSF",
        "outputId": "e0d7575a-0fcf-48e2-a1ee-3750e1cceb58"
      },
      "execution_count": null,
      "outputs": [
        {
          "output_type": "stream",
          "name": "stdout",
          "text": [
            "Conexión exitosa a Redshift\n",
            "Tabla weather_data limpiada correctamente.\n"
          ]
        }
      ]
    }
  ]
}